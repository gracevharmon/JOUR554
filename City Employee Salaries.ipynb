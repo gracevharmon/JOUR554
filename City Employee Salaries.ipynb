{
 "cells": [
  {
   "cell_type": "code",
   "execution_count": 1,
   "id": "a17524c5-083d-4c2c-855a-d636068c14d9",
   "metadata": {},
   "outputs": [],
   "source": [
    "%load_ext lab_black"
   ]
  },
  {
   "cell_type": "code",
   "execution_count": 2,
   "id": "b8763478-4240-41a6-8323-e7100357b03c",
   "metadata": {},
   "outputs": [],
   "source": [
    "import pandas as pd"
   ]
  },
  {
   "cell_type": "code",
   "execution_count": 3,
   "id": "d8badd09-b141-48cb-b740-949e04b07581",
   "metadata": {},
   "outputs": [],
   "source": [
    "url = (\n",
    "    \"https://controllerdata.lacity.org/api/views/pazn-qyym/rows.csv?accessType=DOWNLOAD\"\n",
    ")"
   ]
  },
  {
   "cell_type": "markdown",
   "id": "cc225601-0602-46cd-8e8e-bd6e7977b4f9",
   "metadata": {},
   "source": [
    "# Read the data"
   ]
  },
  {
   "cell_type": "code",
   "execution_count": 74,
   "id": "2e7de5e9-151d-4d24-b1f9-0ebc117a2149",
   "metadata": {},
   "outputs": [],
   "source": [
    "data = pd.read_csv(\n",
    "    url,\n",
    "    dtype={\n",
    "        \"Overtime Pay\": \"float\",\n",
    "        \"Year\": \"str\",\n",
    "        \"Base Pay\": \"float\",\n",
    "        \"Total Payments\": \"float\",\n",
    "        \"Department Title\": \"str\",\n",
    "        \"Row ID\": \"str\",\n",
    "        \"Record Number\": \"str\",\n",
    "    },\n",
    "    low_memory=False,\n",
    ")"
   ]
  },
  {
   "cell_type": "code",
   "execution_count": 75,
   "id": "2195925a-c044-4cc2-98cc-1fccbdc0abe1",
   "metadata": {},
   "outputs": [],
   "source": [
    "df = data.copy()"
   ]
  },
  {
   "cell_type": "code",
   "execution_count": 76,
   "id": "e558ff92-fe52-4139-9a17-337c0b5337ca",
   "metadata": {},
   "outputs": [],
   "source": [
    "df.columns = df.columns.str.lower().str.replace(\" \", \"_\")"
   ]
  },
  {
   "cell_type": "code",
   "execution_count": 77,
   "id": "101f8adc-c5e2-494b-b90a-4a2b1e3c29ba",
   "metadata": {},
   "outputs": [
    {
     "name": "stdout",
     "output_type": "stream",
     "text": [
      "<class 'pandas.core.frame.DataFrame'>\n",
      "RangeIndex: 371455 entries, 0 to 371454\n",
      "Data columns (total 35 columns):\n",
      " #   Column                        Non-Null Count   Dtype  \n",
      "---  ------                        --------------   -----  \n",
      " 0   row_id                        371455 non-null  object \n",
      " 1   year                          371455 non-null  object \n",
      " 2   department_title              371455 non-null  object \n",
      " 3   payroll_department            301851 non-null  float64\n",
      " 4   record_number                 371455 non-null  object \n",
      " 5   job_class_title               371455 non-null  object \n",
      " 6   employment_type               371455 non-null  object \n",
      " 7   hourly_or_event_rate          350434 non-null  float64\n",
      " 8   projected_annual_salary       371455 non-null  float64\n",
      " 9   q1_payments                   371455 non-null  float64\n",
      " 10  q2_payments                   371455 non-null  float64\n",
      " 11  q3_payments                   371455 non-null  float64\n",
      " 12  q4_payments                   371455 non-null  float64\n",
      " 13  payments_over_base_pay        174094 non-null  float64\n",
      " 14  %_over_base_pay               174094 non-null  float64\n",
      " 15  total_payments                371455 non-null  float64\n",
      " 16  base_pay                      371455 non-null  float64\n",
      " 17  permanent_bonus_pay           371455 non-null  float64\n",
      " 18  longevity_bonus_pay           371455 non-null  float64\n",
      " 19  temporary_bonus_pay           371455 non-null  float64\n",
      " 20  lump_sum_pay                  303246 non-null  float64\n",
      " 21  overtime_pay                  370060 non-null  float64\n",
      " 22  other_pay_&_adjustments       371455 non-null  float64\n",
      " 23  other_pay_(payroll_explorer)  371455 non-null  float64\n",
      " 24  mou                           350434 non-null  object \n",
      " 25  mou_title                     350434 non-null  object \n",
      " 26  fms_department                371455 non-null  int64  \n",
      " 27  job_class                     371455 non-null  int64  \n",
      " 28  pay_grade                     301851 non-null  object \n",
      " 29  average_health_cost           371455 non-null  float64\n",
      " 30  average_dental_cost           371455 non-null  float64\n",
      " 31  average_basic_life            371455 non-null  float64\n",
      " 32  average_benefit_cost          371455 non-null  float64\n",
      " 33  benefits_plan                 304896 non-null  object \n",
      " 34  job_class_link                371455 non-null  object \n",
      "dtypes: float64(22), int64(2), object(11)\n",
      "memory usage: 99.2+ MB\n"
     ]
    }
   ],
   "source": [
    "df.info()"
   ]
  },
  {
   "cell_type": "markdown",
   "id": "9ad5d842-5977-424b-a256-bbb2bda6797e",
   "metadata": {},
   "source": [
    "# Define what overtime or no overtime means to Python"
   ]
  },
  {
   "cell_type": "code",
   "execution_count": 78,
   "id": "652549e4-66cb-4e7e-b2b2-ad52e0bea664",
   "metadata": {},
   "outputs": [],
   "source": [
    "received_overtime = df[(df[\"overtime_pay\"] >= 1.0)]"
   ]
  },
  {
   "cell_type": "code",
   "execution_count": 79,
   "id": "c1a82d4e-10ad-44be-be27-380268712eb3",
   "metadata": {},
   "outputs": [
    {
     "data": {
      "text/plain": [
       "department_title         \n",
       "Water And Power (DWP)        56780\n",
       "Police (LAPD)                48889\n",
       "Fire (LAFD)                  17351\n",
       "Airports (LAWA)              14040\n",
       "Public Works - Sanitation    11264\n",
       "dtype: int64"
      ]
     },
     "execution_count": 79,
     "metadata": {},
     "output_type": "execute_result"
    }
   ],
   "source": [
    "received_overtime.value_counts([\"department_title\"], ascending=False).head(5)"
   ]
  },
  {
   "cell_type": "code",
   "execution_count": 80,
   "id": "4ae2c117-6ca5-455b-87ae-1298a29dd8ef",
   "metadata": {},
   "outputs": [
    {
     "data": {
      "text/plain": [
       "department_title           \n",
       "Council District 03 (CD 3)     1\n",
       "Public Accountability          1\n",
       "Council District 11 (CD 11)    1\n",
       "Council District 04 (CD 4)     1\n",
       "Council District 09 (CD 9)     1\n",
       "dtype: int64"
      ]
     },
     "execution_count": 80,
     "metadata": {},
     "output_type": "execute_result"
    }
   ],
   "source": [
    "received_overtime.value_counts([\"department_title\"], ascending=True).head(5)"
   ]
  },
  {
   "cell_type": "code",
   "execution_count": 81,
   "id": "c8b01256-200a-40ca-93f2-d648e4f6f600",
   "metadata": {},
   "outputs": [],
   "source": [
    "no_overtime = df[(df[\"overtime_pay\"] == 0.0)]"
   ]
  },
  {
   "cell_type": "code",
   "execution_count": 82,
   "id": "152aa7c3-d362-469f-a8ca-50f5b3a2eb64",
   "metadata": {},
   "outputs": [
    {
     "data": {
      "text/plain": [
       "department_title         \n",
       "Recreation And Parks         34049\n",
       "Police (LAPD)                19611\n",
       "Water And Power (DWP)        11391\n",
       "Library                       8972\n",
       "Public Works - Sanitation     7899\n",
       "dtype: int64"
      ]
     },
     "execution_count": 82,
     "metadata": {},
     "output_type": "execute_result"
    }
   ],
   "source": [
    "no_overtime.value_counts([\"department_title\"], ascending=False).head(5)"
   ]
  },
  {
   "cell_type": "code",
   "execution_count": 83,
   "id": "ef2d4245-917a-4dc0-ac00-e3837f257ddb",
   "metadata": {},
   "outputs": [
    {
     "data": {
      "text/plain": [
       "department_title                                \n",
       "Human Relations Commission                          1\n",
       "Commission on the Status of Women                   2\n",
       "Environmental Affairs                               4\n",
       "Cannabis                                            4\n",
       "Commission on Children, Youth and their Families    6\n",
       "dtype: int64"
      ]
     },
     "execution_count": 83,
     "metadata": {},
     "output_type": "execute_result"
    }
   ],
   "source": [
    "no_overtime.value_counts([\"department_title\"], ascending=True).head(5)"
   ]
  },
  {
   "cell_type": "markdown",
   "id": "3212e934-2b58-48fd-a120-c65b6626d6ae",
   "metadata": {},
   "source": [
    "# How many employees worked for each department from 2013-2018?"
   ]
  },
  {
   "cell_type": "code",
   "execution_count": 84,
   "id": "0970b2b1-3a93-41d0-a63d-cf6aaec47fab",
   "metadata": {},
   "outputs": [
    {
     "name": "stdout",
     "output_type": "stream",
     "text": [
      "department_title\n",
      "Aging                       309\n",
      "Airports                   3889\n",
      "Airports (LAWA)           19562\n",
      "Animal Services            2240\n",
      "Building and Safety        6356\n",
      "                          ...  \n",
      "Transportation             2231\n",
      "Transportation (LADOT)    10425\n",
      "Treasurer                     8\n",
      "Water And Power (DWP)     69604\n",
      "Zoo                        2413\n",
      "Name: department_title, Length: 93, dtype: int64\n"
     ]
    }
   ],
   "source": [
    "dept_emp_num = df.groupby(\"department_title\")[\"department_title\"].count()\n",
    "print(dept_emp_num)"
   ]
  },
  {
   "cell_type": "code",
   "execution_count": 85,
   "id": "06433ca0-ca79-45aa-8c5a-632323b192a1",
   "metadata": {},
   "outputs": [
    {
     "name": "stdout",
     "output_type": "stream",
     "text": [
      "department_title\n",
      "Aging                       309\n",
      "Airports                   3889\n",
      "Airports (LAWA)           19562\n",
      "Animal Services            2240\n",
      "Building and Safety        6356\n",
      "                          ...  \n",
      "Transportation             2231\n",
      "Transportation (LADOT)    10425\n",
      "Treasurer                     8\n",
      "Water And Power (DWP)     69604\n",
      "Zoo                        2413\n",
      "Name: department_title, Length: 93, dtype: int64\n"
     ]
    }
   ],
   "source": [
    "dept_emp_num = df.groupby(\"department_title\")[\"department_title\"].count()\n",
    "print(dept_emp_num)"
   ]
  },
  {
   "cell_type": "markdown",
   "id": "82a02210-7b59-4696-92c6-3dc8478df3f7",
   "metadata": {},
   "source": [
    "# What was the mean and sum amount of overtime pay that each department got overall?"
   ]
  },
  {
   "cell_type": "code",
   "execution_count": 86,
   "id": "3cc1a946-2e14-402f-bed3-968453715d37",
   "metadata": {},
   "outputs": [
    {
     "data": {
      "text/html": [
       "<div>\n",
       "<style scoped>\n",
       "    .dataframe tbody tr th:only-of-type {\n",
       "        vertical-align: middle;\n",
       "    }\n",
       "\n",
       "    .dataframe tbody tr th {\n",
       "        vertical-align: top;\n",
       "    }\n",
       "\n",
       "    .dataframe thead th {\n",
       "        text-align: right;\n",
       "    }\n",
       "</style>\n",
       "<table border=\"1\" class=\"dataframe\">\n",
       "  <thead>\n",
       "    <tr style=\"text-align: right;\">\n",
       "      <th></th>\n",
       "      <th>department_title</th>\n",
       "      <th>count</th>\n",
       "      <th>mean</th>\n",
       "      <th>sum</th>\n",
       "    </tr>\n",
       "  </thead>\n",
       "  <tbody>\n",
       "    <tr>\n",
       "      <th>0</th>\n",
       "      <td>Aging</td>\n",
       "      <td>309</td>\n",
       "      <td>43.365307</td>\n",
       "      <td>1.339988e+04</td>\n",
       "    </tr>\n",
       "    <tr>\n",
       "      <th>1</th>\n",
       "      <td>Airports</td>\n",
       "      <td>3889</td>\n",
       "      <td>10437.341913</td>\n",
       "      <td>4.059082e+07</td>\n",
       "    </tr>\n",
       "    <tr>\n",
       "      <th>2</th>\n",
       "      <td>Airports (LAWA)</td>\n",
       "      <td>19562</td>\n",
       "      <td>9145.433919</td>\n",
       "      <td>1.789030e+08</td>\n",
       "    </tr>\n",
       "    <tr>\n",
       "      <th>3</th>\n",
       "      <td>Animal Services</td>\n",
       "      <td>2240</td>\n",
       "      <td>390.923656</td>\n",
       "      <td>8.756690e+05</td>\n",
       "    </tr>\n",
       "    <tr>\n",
       "      <th>4</th>\n",
       "      <td>Building and Safety</td>\n",
       "      <td>6356</td>\n",
       "      <td>8288.750065</td>\n",
       "      <td>5.268330e+07</td>\n",
       "    </tr>\n",
       "    <tr>\n",
       "      <th>...</th>\n",
       "      <td>...</td>\n",
       "      <td>...</td>\n",
       "      <td>...</td>\n",
       "      <td>...</td>\n",
       "    </tr>\n",
       "    <tr>\n",
       "      <th>88</th>\n",
       "      <td>Transportation</td>\n",
       "      <td>2231</td>\n",
       "      <td>7556.035513</td>\n",
       "      <td>1.685752e+07</td>\n",
       "    </tr>\n",
       "    <tr>\n",
       "      <th>89</th>\n",
       "      <td>Transportation (LADOT)</td>\n",
       "      <td>10425</td>\n",
       "      <td>7497.921424</td>\n",
       "      <td>7.816583e+07</td>\n",
       "    </tr>\n",
       "    <tr>\n",
       "      <th>90</th>\n",
       "      <td>Treasurer</td>\n",
       "      <td>8</td>\n",
       "      <td>0.000000</td>\n",
       "      <td>0.000000e+00</td>\n",
       "    </tr>\n",
       "    <tr>\n",
       "      <th>91</th>\n",
       "      <td>Water And Power (DWP)</td>\n",
       "      <td>68209</td>\n",
       "      <td>15394.608957</td>\n",
       "      <td>1.050051e+09</td>\n",
       "    </tr>\n",
       "    <tr>\n",
       "      <th>92</th>\n",
       "      <td>Zoo</td>\n",
       "      <td>2413</td>\n",
       "      <td>316.169068</td>\n",
       "      <td>7.629160e+05</td>\n",
       "    </tr>\n",
       "  </tbody>\n",
       "</table>\n",
       "<p>93 rows × 4 columns</p>\n",
       "</div>"
      ],
      "text/plain": [
       "          department_title  count          mean           sum\n",
       "0                    Aging    309     43.365307  1.339988e+04\n",
       "1                 Airports   3889  10437.341913  4.059082e+07\n",
       "2          Airports (LAWA)  19562   9145.433919  1.789030e+08\n",
       "3          Animal Services   2240    390.923656  8.756690e+05\n",
       "4      Building and Safety   6356   8288.750065  5.268330e+07\n",
       "..                     ...    ...           ...           ...\n",
       "88          Transportation   2231   7556.035513  1.685752e+07\n",
       "89  Transportation (LADOT)  10425   7497.921424  7.816583e+07\n",
       "90               Treasurer      8      0.000000  0.000000e+00\n",
       "91   Water And Power (DWP)  68209  15394.608957  1.050051e+09\n",
       "92                     Zoo   2413    316.169068  7.629160e+05\n",
       "\n",
       "[93 rows x 4 columns]"
      ]
     },
     "execution_count": 86,
     "metadata": {},
     "output_type": "execute_result"
    }
   ],
   "source": [
    "df.groupby(\"department_title\").overtime_pay.agg([\"count\", \"mean\", \"sum\"]).reset_index()"
   ]
  },
  {
   "cell_type": "markdown",
   "id": "4622e0e1-cfc1-4a8a-bef3-11d058a9e6bc",
   "metadata": {},
   "source": [
    "# What 5 departments paid their employees the MOST and the LEAST overtime in 2013?"
   ]
  },
  {
   "cell_type": "code",
   "execution_count": 87,
   "id": "343592a3-5df4-4fde-984d-15e476e139f8",
   "metadata": {},
   "outputs": [],
   "source": [
    "depts_sortedby2013 = df.loc[df[\"year\"] == \"2013\",].groupby(\"department_title\")"
   ]
  },
  {
   "cell_type": "code",
   "execution_count": 88,
   "id": "63f8a34b-e5ac-4c7f-9bd6-5c592d6d068f",
   "metadata": {},
   "outputs": [
    {
     "data": {
      "text/plain": [
       "department_title\n",
       "Fire (LAFD)               1.419297e+08\n",
       "Water And Power (DWP)     1.290176e+08\n",
       "Airports (LAWA)           3.022576e+07\n",
       "Police (LAPD)             2.410065e+07\n",
       "Transportation (LADOT)    1.410106e+07\n",
       "Name: overtime_pay, dtype: float64"
      ]
     },
     "execution_count": 88,
     "metadata": {},
     "output_type": "execute_result"
    }
   ],
   "source": [
    "depts_sortedby2013.sum().sort_values([\"overtime_pay\"], ascending=False).head(5)[\n",
    "    \"overtime_pay\"\n",
    "]"
   ]
  },
  {
   "cell_type": "code",
   "execution_count": 89,
   "id": "ee991518-9437-4f3b-bba4-33f267e1faf8",
   "metadata": {},
   "outputs": [
    {
     "data": {
      "text/plain": [
       "department_title\n",
       "Council District 01 (CD 1)     0.0\n",
       "Council District 10 (CD 10)    0.0\n",
       "Council District 08 (CD 8)     0.0\n",
       "Council District 06 (CD 6)     0.0\n",
       "Council District 05 (CD 5)     0.0\n",
       "Name: overtime_pay, dtype: float64"
      ]
     },
     "execution_count": 89,
     "metadata": {},
     "output_type": "execute_result"
    }
   ],
   "source": [
    "depts_sortedby2013.sum().sort_values([\"overtime_pay\"], ascending=True).head(5)[\n",
    "    \"overtime_pay\"\n",
    "]"
   ]
  },
  {
   "cell_type": "markdown",
   "id": "e39409ff-bfd8-43ab-a816-b21b6d05c5d0",
   "metadata": {},
   "source": [
    "# What 5 departments paid their employees the MOST and the LEAST overtime in 2014?"
   ]
  },
  {
   "cell_type": "code",
   "execution_count": 90,
   "id": "443c4753-86ec-4f42-8057-7ac864063ef1",
   "metadata": {},
   "outputs": [],
   "source": [
    "depts_def2014 = df.loc[df[\"year\"] == \"2014\",].groupby(\"department_title\")"
   ]
  },
  {
   "cell_type": "code",
   "execution_count": 91,
   "id": "8c0751a6-0de7-4bce-8af7-f09865b5bf10",
   "metadata": {},
   "outputs": [
    {
     "data": {
      "text/plain": [
       "department_title\n",
       "Fire (LAFD)               1.629058e+08\n",
       "Water And Power (DWP)     1.439921e+08\n",
       "Police (LAPD)             7.229036e+07\n",
       "Airports (LAWA)           3.499991e+07\n",
       "Transportation (LADOT)    1.524562e+07\n",
       "Name: overtime_pay, dtype: float64"
      ]
     },
     "execution_count": 91,
     "metadata": {},
     "output_type": "execute_result"
    }
   ],
   "source": [
    "depts_def2014.sum().sort_values([\"overtime_pay\"], ascending=False).head(5)[\n",
    "    \"overtime_pay\"\n",
    "]"
   ]
  },
  {
   "cell_type": "code",
   "execution_count": 92,
   "id": "34b8645a-76ae-40ca-a1a9-985caa7fa38a",
   "metadata": {},
   "outputs": [
    {
     "data": {
      "text/plain": [
       "department_title\n",
       "Council District 01 (CD 1)     0.0\n",
       "Council District 11 (CD 11)    0.0\n",
       "Council District 10 (CD 10)    0.0\n",
       "Council District 09 (CD 9)     0.0\n",
       "Council District 08 (CD 8)     0.0\n",
       "Name: overtime_pay, dtype: float64"
      ]
     },
     "execution_count": 92,
     "metadata": {},
     "output_type": "execute_result"
    }
   ],
   "source": [
    "depts_def2014.sum().sort_values([\"overtime_pay\"], ascending=True).head(5)[\n",
    "    \"overtime_pay\"\n",
    "]"
   ]
  },
  {
   "cell_type": "markdown",
   "id": "df9faafe-635e-4fba-bb90-9aeb0664d1b1",
   "metadata": {},
   "source": [
    "# What 5 departments paid their employees the MOST and the LEAST overtime in 2015?"
   ]
  },
  {
   "cell_type": "code",
   "execution_count": 93,
   "id": "7ad78c29-5cb0-472b-acbb-ad9e7f7760bd",
   "metadata": {},
   "outputs": [],
   "source": [
    "depts_sortedby2015 = df.loc[df[\"year\"] == \"2015\",].groupby(\"department_title\")"
   ]
  },
  {
   "cell_type": "code",
   "execution_count": 94,
   "id": "73b2642a-1e4c-4c72-850b-61978991bd77",
   "metadata": {},
   "outputs": [
    {
     "data": {
      "text/plain": [
       "department_title\n",
       "Fire (LAFD)               1.862242e+08\n",
       "Water And Power (DWP)     1.651589e+08\n",
       "Police (LAPD)             9.665357e+07\n",
       "Airports (LAWA)           3.974570e+07\n",
       "Transportation (LADOT)    1.452112e+07\n",
       "Name: overtime_pay, dtype: float64"
      ]
     },
     "execution_count": 94,
     "metadata": {},
     "output_type": "execute_result"
    }
   ],
   "source": [
    "depts_sortedby2015.sum().sort_values([\"overtime_pay\"], ascending=False).head(5)[\n",
    "    \"overtime_pay\"\n",
    "]"
   ]
  },
  {
   "cell_type": "code",
   "execution_count": 95,
   "id": "b55893c1-8f67-458b-ada3-b5a5b6f5d41f",
   "metadata": {},
   "outputs": [
    {
     "data": {
      "text/plain": [
       "department_title\n",
       "Council District 13 (CD 13)    0.0\n",
       "Council District 07 (CD 7)     0.0\n",
       "Council District 06 (CD 6)     0.0\n",
       "Council District 05 (CD 5)     0.0\n",
       "Council District 10 (CD 10)    0.0\n",
       "Name: overtime_pay, dtype: float64"
      ]
     },
     "execution_count": 95,
     "metadata": {},
     "output_type": "execute_result"
    }
   ],
   "source": [
    "depts_sortedby2015.sum().sort_values([\"overtime_pay\"], ascending=True).head(5)[\n",
    "    \"overtime_pay\"\n",
    "]"
   ]
  },
  {
   "cell_type": "markdown",
   "id": "d396bc16-bb52-4548-bec0-aca660471617",
   "metadata": {},
   "source": [
    "# What 5 departments paid their employees the MOST and the LEAST overtime in 2016?"
   ]
  },
  {
   "cell_type": "code",
   "execution_count": 96,
   "id": "5ce5f30d-fbff-4bfb-b295-3a83ef27c691",
   "metadata": {},
   "outputs": [],
   "source": [
    "depts_sortedby2016 = df.loc[df[\"year\"] == \"2016\",].groupby(\"department_title\")"
   ]
  },
  {
   "cell_type": "code",
   "execution_count": 32,
   "id": "b95c7eb9-a30b-43e9-b9c6-f52b82f5b666",
   "metadata": {},
   "outputs": [
    {
     "data": {
      "text/plain": [
       "department_title\n",
       "Fire (LAFD)               1.878732e+08\n",
       "Water And Power (DWP)     1.705126e+08\n",
       "Police (LAPD)             1.052893e+08\n",
       "Airports (LAWA)           4.028817e+07\n",
       "Transportation (LADOT)    1.595821e+07\n",
       "Name: overtime_pay, dtype: float64"
      ]
     },
     "execution_count": 32,
     "metadata": {},
     "output_type": "execute_result"
    }
   ],
   "source": [
    "depts_sortedby2016.sum().sort_values([\"overtime_pay\"], ascending=False).head(5)[\n",
    "    \"overtime_pay\"\n",
    "]"
   ]
  },
  {
   "cell_type": "code",
   "execution_count": 33,
   "id": "a3efc76d-9376-4822-8716-269fe353ae66",
   "metadata": {},
   "outputs": [
    {
     "data": {
      "text/plain": [
       "department_title\n",
       "Aging                         0.0\n",
       "Council District 08 (CD 8)    0.0\n",
       "Council District 07 (CD 7)    0.0\n",
       "Council District 06 (CD 6)    0.0\n",
       "Council District 05 (CD 5)    0.0\n",
       "Name: overtime_pay, dtype: float64"
      ]
     },
     "execution_count": 33,
     "metadata": {},
     "output_type": "execute_result"
    }
   ],
   "source": [
    "depts_sortedby2016.sum().sort_values([\"overtime_pay\"], ascending=True).head(5)[\n",
    "    \"overtime_pay\"\n",
    "]"
   ]
  },
  {
   "cell_type": "markdown",
   "id": "b33e7f2d-83ae-435e-967c-23f9dd017e15",
   "metadata": {},
   "source": [
    "# What 5 departments paid their employees the MOST and the LEAST overtime in 2017?"
   ]
  },
  {
   "cell_type": "code",
   "execution_count": 34,
   "id": "b03e5398-72e7-4e36-ba44-166e173b4732",
   "metadata": {},
   "outputs": [],
   "source": [
    "depts_sortedby2017 = df.loc[df[\"year\"] == \"2017\",].groupby(\"department_title\")"
   ]
  },
  {
   "cell_type": "code",
   "execution_count": 35,
   "id": "8c601530-a5af-4845-82d3-d67922b5c41d",
   "metadata": {},
   "outputs": [
    {
     "data": {
      "text/plain": [
       "department_title\n",
       "Fire                         1.981769e+08\n",
       "Water And Power (DWP)        1.896433e+08\n",
       "Police                       1.342280e+08\n",
       "Airports                     4.059082e+07\n",
       "Public Works - Sanitation    1.780212e+07\n",
       "Name: overtime_pay, dtype: float64"
      ]
     },
     "execution_count": 35,
     "metadata": {},
     "output_type": "execute_result"
    }
   ],
   "source": [
    "depts_sortedby2017.sum().sort_values([\"overtime_pay\"], ascending=False).head(5)[\n",
    "    \"overtime_pay\"\n",
    "]"
   ]
  },
  {
   "cell_type": "code",
   "execution_count": 36,
   "id": "70d20b05-754b-4827-95b7-9f819679879a",
   "metadata": {},
   "outputs": [
    {
     "data": {
      "text/plain": [
       "department_title\n",
       "Council District 05    0.0\n",
       "Council District 11    0.0\n",
       "Council District 10    0.0\n",
       "Council District 14    0.0\n",
       "Council District 06    0.0\n",
       "Name: overtime_pay, dtype: float64"
      ]
     },
     "execution_count": 36,
     "metadata": {},
     "output_type": "execute_result"
    }
   ],
   "source": [
    "depts_sortedby2017.sum().sort_values([\"overtime_pay\"], ascending=True).head(5)[\n",
    "    \"overtime_pay\"\n",
    "]"
   ]
  },
  {
   "cell_type": "markdown",
   "id": "72d3adca-60bf-47e3-935d-2a1c9e8f8c33",
   "metadata": {},
   "source": [
    "# What 5 departments paid their employees the MOST and the LEAST overtime in 2018?"
   ]
  },
  {
   "cell_type": "code",
   "execution_count": 53,
   "id": "d616cfe1-eb9c-415f-a736-c24b5b5a19e9",
   "metadata": {},
   "outputs": [],
   "source": [
    "depts_sortedby2018 = df.loc[df[\"year\"] == \"2018\",].groupby(\"department_title\")"
   ]
  },
  {
   "cell_type": "code",
   "execution_count": 54,
   "id": "703475da-f59f-4fad-acbd-26e52bae53d4",
   "metadata": {},
   "outputs": [
    {
     "data": {
      "text/plain": [
       "department_title\n",
       "Water And Power (DWP)        2.517264e+08\n",
       "Fire (LAFD)                  1.967397e+08\n",
       "Police (LAPD)                1.519827e+08\n",
       "Airports (LAWA)              3.364344e+07\n",
       "Public Works - Sanitation    1.847180e+07\n",
       "Name: overtime_pay, dtype: float64"
      ]
     },
     "execution_count": 54,
     "metadata": {},
     "output_type": "execute_result"
    }
   ],
   "source": [
    "depts_sortedby2018.sum().sort_values([\"overtime_pay\"], ascending=False).head(5)[\n",
    "    \"overtime_pay\"\n",
    "]"
   ]
  },
  {
   "cell_type": "code",
   "execution_count": 55,
   "id": "9650ff68-5397-4429-a2e9-18b9227cff36",
   "metadata": {},
   "outputs": [
    {
     "data": {
      "text/plain": [
       "department_title\n",
       "Aging                          0.0\n",
       "Council District 15 (CD 15)    0.0\n",
       "Council District 13 (CD 13)    0.0\n",
       "Council District 12 (CD 12)    0.0\n",
       "Council District 11 (CD 11)    0.0\n",
       "Name: overtime_pay, dtype: float64"
      ]
     },
     "execution_count": 55,
     "metadata": {},
     "output_type": "execute_result"
    }
   ],
   "source": [
    "depts_sortedby2018.sum().sort_values([\"overtime_pay\"], ascending=True).head(5)[\n",
    "    \"overtime_pay\"\n",
    "]"
   ]
  },
  {
   "cell_type": "markdown",
   "id": "33e5ecfb-b424-4ca2-ad56-d4a1dc536db7",
   "metadata": {},
   "source": [
    "# Let's look at the mean, maximum, and minumum overtime amounts for each department year by year"
   ]
  },
  {
   "cell_type": "code",
   "execution_count": 97,
   "id": "c6bbeac0-07df-4539-9359-1306fd3d5eac",
   "metadata": {},
   "outputs": [],
   "source": [
    "overtime_pay = df[[\"year\", \"department_title\", \"overtime_pay\"]]"
   ]
  },
  {
   "cell_type": "code",
   "execution_count": 98,
   "id": "a3d9146c-5526-41fa-b128-0c9f6d7c3873",
   "metadata": {},
   "outputs": [
    {
     "name": "stdout",
     "output_type": "stream",
     "text": [
      "overtime_pay:\n",
      "Mean Overtime for All Departments:\n",
      "      overtime_pay\n",
      "year              \n",
      "2013   6539.704504\n",
      "2014   8298.317302\n",
      "2015   9277.312312\n",
      "2016   9398.952923\n",
      "2017  10157.145152\n",
      "2018   9860.020217\n",
      "Max Overtime By Department:\n",
      "             year       department_title  overtime_pay\n",
      "year                                                  \n",
      "2013 27448   2013            Fire (LAFD)     242033.21\n",
      "2014 84519   2014            Fire (LAFD)     286535.97\n",
      "2015 115704  2015            Fire (LAFD)     311315.62\n",
      "2016 299388  2016            Fire (LAFD)     334654.93\n",
      "2017 247400  2017                   Fire     306405.43\n",
      "2018 369538  2018  Water And Power (DWP)     308745.34\n",
      "Minimum Overtime By Department:\n",
      "             year       department_title  overtime_pay\n",
      "year                                                  \n",
      "2013 57361   2013          Police (LAPD)      -1019.49\n",
      "2014 81996   2014          Police (LAPD)       -670.82\n",
      "2015 159216  2015          Police (LAPD)       -596.13\n",
      "2016 332561  2016  Water And Power (DWP)      -1087.58\n",
      "2017 271902  2017  Water And Power (DWP)      -1087.58\n",
      "2018 368470  2018  Water And Power (DWP)      -1129.41\n"
     ]
    }
   ],
   "source": [
    "print(\"overtime_pay:\")\n",
    "\n",
    "print(\"Mean Overtime for All Departments:\")\n",
    "print(overtime_pay.groupby(\"year\").agg({\"overtime_pay\": \"mean\"}))\n",
    "\n",
    "\n",
    "print(\"Max Overtime By Department:\")\n",
    "print(\n",
    "    overtime_pay.groupby(\"year\").apply(\n",
    "        lambda x: x[x[\"overtime_pay\"] == x[\"overtime_pay\"].max()]\n",
    "    )\n",
    ")\n",
    "\n",
    "\n",
    "print(\"Minimum Overtime By Department:\")\n",
    "print(\n",
    "    overtime_pay.groupby(\"year\").apply(\n",
    "        lambda x: x[x[\"overtime_pay\"] == x[\"overtime_pay\"].min()]\n",
    "    )\n",
    ")"
   ]
  },
  {
   "cell_type": "code",
   "execution_count": null,
   "id": "8b96a972-3ce6-4017-9b19-483dfba8293b",
   "metadata": {},
   "outputs": [],
   "source": [
    "# depts_definition = df.groupby([\"department_title\"])"
   ]
  },
  {
   "cell_type": "code",
   "execution_count": null,
   "id": "ac0e29e8-09d0-4044-9ce9-bbcd429c8ca0",
   "metadata": {},
   "outputs": [],
   "source": [
    "# depts_definition.head(10)"
   ]
  },
  {
   "cell_type": "code",
   "execution_count": 99,
   "id": "3905d30b-ab01-4519-ac1c-03acf06c2647",
   "metadata": {},
   "outputs": [],
   "source": [
    "depts_pay = (\n",
    "    data.groupby(df[\"department_title\"])\n",
    "    .sum({\"over_time\": \"sum\", \"base_pay\": \"sum\"})\n",
    "    .reset_index()\n",
    ")"
   ]
  },
  {
   "cell_type": "markdown",
   "id": "abe3eee1-ee49-42b6-9801-60a8b1515fb2",
   "metadata": {},
   "source": [
    "# How many employees worked in each department each year?"
   ]
  },
  {
   "cell_type": "code",
   "execution_count": 100,
   "id": "81b40c0c-0bfa-4ac9-baa4-a01067d14a85",
   "metadata": {},
   "outputs": [],
   "source": [
    "total_employee_count = df[\n",
    "    [\"department_title\", \"department_title\", \"record_number\", \"year\"]\n",
    "]"
   ]
  },
  {
   "cell_type": "code",
   "execution_count": 101,
   "id": "08bf0dfe-eaad-4cfd-ab23-4f923c9b0575",
   "metadata": {},
   "outputs": [
    {
     "data": {
      "text/html": [
       "<div>\n",
       "<style scoped>\n",
       "    .dataframe tbody tr th:only-of-type {\n",
       "        vertical-align: middle;\n",
       "    }\n",
       "\n",
       "    .dataframe tbody tr th {\n",
       "        vertical-align: top;\n",
       "    }\n",
       "\n",
       "    .dataframe thead th {\n",
       "        text-align: right;\n",
       "    }\n",
       "</style>\n",
       "<table border=\"1\" class=\"dataframe\">\n",
       "  <thead>\n",
       "    <tr style=\"text-align: right;\">\n",
       "      <th></th>\n",
       "      <th>department_title</th>\n",
       "      <th>department_title</th>\n",
       "      <th>record_number</th>\n",
       "      <th>year</th>\n",
       "    </tr>\n",
       "  </thead>\n",
       "  <tbody>\n",
       "    <tr>\n",
       "      <th>0</th>\n",
       "      <td>Police (LAPD)</td>\n",
       "      <td>Police (LAPD)</td>\n",
       "      <td>1000027830</td>\n",
       "      <td>2013</td>\n",
       "    </tr>\n",
       "    <tr>\n",
       "      <th>1</th>\n",
       "      <td>Police (LAPD)</td>\n",
       "      <td>Police (LAPD)</td>\n",
       "      <td>1000155488</td>\n",
       "      <td>2013</td>\n",
       "    </tr>\n",
       "    <tr>\n",
       "      <th>2</th>\n",
       "      <td>Police (LAPD)</td>\n",
       "      <td>Police (LAPD)</td>\n",
       "      <td>1000194958</td>\n",
       "      <td>2013</td>\n",
       "    </tr>\n",
       "    <tr>\n",
       "      <th>3</th>\n",
       "      <td>Zoo</td>\n",
       "      <td>Zoo</td>\n",
       "      <td>1000198958</td>\n",
       "      <td>2013</td>\n",
       "    </tr>\n",
       "    <tr>\n",
       "      <th>4</th>\n",
       "      <td>Police (LAPD)</td>\n",
       "      <td>Police (LAPD)</td>\n",
       "      <td>1000232317</td>\n",
       "      <td>2013</td>\n",
       "    </tr>\n",
       "  </tbody>\n",
       "</table>\n",
       "</div>"
      ],
      "text/plain": [
       "  department_title department_title record_number  year\n",
       "0    Police (LAPD)    Police (LAPD)    1000027830  2013\n",
       "1    Police (LAPD)    Police (LAPD)    1000155488  2013\n",
       "2    Police (LAPD)    Police (LAPD)    1000194958  2013\n",
       "3              Zoo              Zoo    1000198958  2013\n",
       "4    Police (LAPD)    Police (LAPD)    1000232317  2013"
      ]
     },
     "execution_count": 101,
     "metadata": {},
     "output_type": "execute_result"
    }
   ],
   "source": [
    "total_employee_count.head(5)"
   ]
  },
  {
   "cell_type": "code",
   "execution_count": 102,
   "id": "a22193b0-bed4-460c-b8ec-970d7377ec49",
   "metadata": {},
   "outputs": [
    {
     "data": {
      "text/plain": [
       "year\n",
       "2013    57379\n",
       "2014    56948\n",
       "2015    59767\n",
       "2016    61009\n",
       "2017    63919\n",
       "2018    72433\n",
       "Name: year, dtype: int64"
      ]
     },
     "execution_count": 102,
     "metadata": {},
     "output_type": "execute_result"
    }
   ],
   "source": [
    "total_employee_count.groupby(\"year\")[\"year\"].count()"
   ]
  },
  {
   "cell_type": "code",
   "execution_count": 140,
   "id": "41f852f0-e58c-4609-ad6a-e95e718efc1b",
   "metadata": {},
   "outputs": [],
   "source": [
    "# total_employee_count.groupby(\"year\")[\"department_title\"].count(\"record_number\")\n",
    "# total_employee_count.groupby(\n",
    "# [\"year\"],[\"department_title\"], as_index=False)"
   ]
  },
  {
   "cell_type": "markdown",
   "id": "597854da-091d-490a-a204-e215828f958e",
   "metadata": {},
   "source": [
    "# Let's focus on one year and the three departments that paid the most overtime each year: 2014, LAFD, LAPD, AND DWP.\n",
    "\n",
    "[Water And Power (DWP)]\n",
    "[Police (LAPD)]\n",
    "[Fire (LAFD)] "
   ]
  },
  {
   "cell_type": "code",
   "execution_count": 123,
   "id": "2ada99f1-a10b-4210-b756-7a0f30a45489",
   "metadata": {},
   "outputs": [],
   "source": [
    "DWP_2014 = df.loc[df[\"year\"] == \"2014\"]"
   ]
  },
  {
   "cell_type": "code",
   "execution_count": 155,
   "id": "796669cf-daf9-45da-94cd-a67e23e480d1",
   "metadata": {},
   "outputs": [
    {
     "data": {
      "text/html": [
       "<div>\n",
       "<style scoped>\n",
       "    .dataframe tbody tr th:only-of-type {\n",
       "        vertical-align: middle;\n",
       "    }\n",
       "\n",
       "    .dataframe tbody tr th {\n",
       "        vertical-align: top;\n",
       "    }\n",
       "\n",
       "    .dataframe thead th {\n",
       "        text-align: right;\n",
       "    }\n",
       "</style>\n",
       "<table border=\"1\" class=\"dataframe\">\n",
       "  <thead>\n",
       "    <tr style=\"text-align: right;\">\n",
       "      <th></th>\n",
       "      <th>row_id</th>\n",
       "      <th>year</th>\n",
       "      <th>department_title</th>\n",
       "      <th>payroll_department</th>\n",
       "      <th>record_number</th>\n",
       "      <th>job_class_title</th>\n",
       "      <th>employment_type</th>\n",
       "      <th>hourly_or_event_rate</th>\n",
       "      <th>projected_annual_salary</th>\n",
       "      <th>q1_payments</th>\n",
       "      <th>...</th>\n",
       "      <th>mou_title</th>\n",
       "      <th>fms_department</th>\n",
       "      <th>job_class</th>\n",
       "      <th>pay_grade</th>\n",
       "      <th>average_health_cost</th>\n",
       "      <th>average_dental_cost</th>\n",
       "      <th>average_basic_life</th>\n",
       "      <th>average_benefit_cost</th>\n",
       "      <th>benefits_plan</th>\n",
       "      <th>job_class_link</th>\n",
       "    </tr>\n",
       "  </thead>\n",
       "  <tbody>\n",
       "    <tr>\n",
       "      <th>17783</th>\n",
       "      <td>4-1147984106dwp1505Pa</td>\n",
       "      <td>2014</td>\n",
       "      <td>Water And Power (DWP)</td>\n",
       "      <td>NaN</td>\n",
       "      <td>1147984106</td>\n",
       "      <td>Student Trainee Worker</td>\n",
       "      <td>Part Time</td>\n",
       "      <td>NaN</td>\n",
       "      <td>19836.00</td>\n",
       "      <td>808.45</td>\n",
       "      <td>...</td>\n",
       "      <td>NaN</td>\n",
       "      <td>98</td>\n",
       "      <td>1505</td>\n",
       "      <td>NaN</td>\n",
       "      <td>0.00</td>\n",
       "      <td>0.00</td>\n",
       "      <td>0.0</td>\n",
       "      <td>0.00</td>\n",
       "      <td>NaN</td>\n",
       "      <td>http://per.lacity.org/perspecs/1505.pdf</td>\n",
       "    </tr>\n",
       "    <tr>\n",
       "      <th>18395</th>\n",
       "      <td>4-1226924308dwp1866Fu</td>\n",
       "      <td>2014</td>\n",
       "      <td>Water And Power (DWP)</td>\n",
       "      <td>NaN</td>\n",
       "      <td>1226924308</td>\n",
       "      <td>Stores Supervisor</td>\n",
       "      <td>Full Time</td>\n",
       "      <td>NaN</td>\n",
       "      <td>120874.32</td>\n",
       "      <td>0.00</td>\n",
       "      <td>...</td>\n",
       "      <td>NaN</td>\n",
       "      <td>98</td>\n",
       "      <td>1866</td>\n",
       "      <td>NaN</td>\n",
       "      <td>16842.08</td>\n",
       "      <td>1282.61</td>\n",
       "      <td>0.0</td>\n",
       "      <td>18124.69</td>\n",
       "      <td>DWP</td>\n",
       "      <td>http://per.lacity.org/perspecs/1866.pdf</td>\n",
       "    </tr>\n",
       "    <tr>\n",
       "      <th>22741</th>\n",
       "      <td>4-1634849167dwp1611Fu</td>\n",
       "      <td>2014</td>\n",
       "      <td>Water And Power (DWP)</td>\n",
       "      <td>NaN</td>\n",
       "      <td>1634849167</td>\n",
       "      <td>Meter Reader</td>\n",
       "      <td>Full Time</td>\n",
       "      <td>NaN</td>\n",
       "      <td>56041.92</td>\n",
       "      <td>0.00</td>\n",
       "      <td>...</td>\n",
       "      <td>NaN</td>\n",
       "      <td>98</td>\n",
       "      <td>1611</td>\n",
       "      <td>NaN</td>\n",
       "      <td>16842.08</td>\n",
       "      <td>1282.61</td>\n",
       "      <td>0.0</td>\n",
       "      <td>18124.69</td>\n",
       "      <td>DWP</td>\n",
       "      <td>http://per.lacity.org/perspecs/1611.pdf</td>\n",
       "    </tr>\n",
       "    <tr>\n",
       "      <th>24239</th>\n",
       "      <td>4-19790351dwp941Fu</td>\n",
       "      <td>2014</td>\n",
       "      <td>Water And Power (DWP)</td>\n",
       "      <td>NaN</td>\n",
       "      <td>19790351</td>\n",
       "      <td>Construction Helper</td>\n",
       "      <td>Full Time</td>\n",
       "      <td>NaN</td>\n",
       "      <td>59278.32</td>\n",
       "      <td>1872.79</td>\n",
       "      <td>...</td>\n",
       "      <td>NaN</td>\n",
       "      <td>98</td>\n",
       "      <td>941</td>\n",
       "      <td>NaN</td>\n",
       "      <td>16842.08</td>\n",
       "      <td>1282.61</td>\n",
       "      <td>0.0</td>\n",
       "      <td>18124.69</td>\n",
       "      <td>DWP</td>\n",
       "      <td>http://per.lacity.org/perspecs/0941.pdf</td>\n",
       "    </tr>\n",
       "    <tr>\n",
       "      <th>24680</th>\n",
       "      <td>4-110013057dwp920Fu</td>\n",
       "      <td>2014</td>\n",
       "      <td>Water And Power (DWP)</td>\n",
       "      <td>NaN</td>\n",
       "      <td>110013057</td>\n",
       "      <td>Construction Equipment Operator</td>\n",
       "      <td>Full Time</td>\n",
       "      <td>NaN</td>\n",
       "      <td>84125.52</td>\n",
       "      <td>1224.00</td>\n",
       "      <td>...</td>\n",
       "      <td>NaN</td>\n",
       "      <td>98</td>\n",
       "      <td>920</td>\n",
       "      <td>NaN</td>\n",
       "      <td>16842.08</td>\n",
       "      <td>1282.61</td>\n",
       "      <td>0.0</td>\n",
       "      <td>18124.69</td>\n",
       "      <td>DWP</td>\n",
       "      <td>http://per.lacity.org/perspecs/0920.pdf</td>\n",
       "    </tr>\n",
       "    <tr>\n",
       "      <th>...</th>\n",
       "      <td>...</td>\n",
       "      <td>...</td>\n",
       "      <td>...</td>\n",
       "      <td>...</td>\n",
       "      <td>...</td>\n",
       "      <td>...</td>\n",
       "      <td>...</td>\n",
       "      <td>...</td>\n",
       "      <td>...</td>\n",
       "      <td>...</td>\n",
       "      <td>...</td>\n",
       "      <td>...</td>\n",
       "      <td>...</td>\n",
       "      <td>...</td>\n",
       "      <td>...</td>\n",
       "      <td>...</td>\n",
       "      <td>...</td>\n",
       "      <td>...</td>\n",
       "      <td>...</td>\n",
       "      <td>...</td>\n",
       "      <td>...</td>\n",
       "    </tr>\n",
       "    <tr>\n",
       "      <th>114379</th>\n",
       "      <td>4-999134163dwp5622Fu</td>\n",
       "      <td>2014</td>\n",
       "      <td>Water And Power (DWP)</td>\n",
       "      <td>NaN</td>\n",
       "      <td>999134163</td>\n",
       "      <td>Steam Plant Assistant</td>\n",
       "      <td>Full Time</td>\n",
       "      <td>NaN</td>\n",
       "      <td>77506.56</td>\n",
       "      <td>25488.90</td>\n",
       "      <td>...</td>\n",
       "      <td>NaN</td>\n",
       "      <td>98</td>\n",
       "      <td>5622</td>\n",
       "      <td>NaN</td>\n",
       "      <td>16842.08</td>\n",
       "      <td>1282.61</td>\n",
       "      <td>0.0</td>\n",
       "      <td>18124.69</td>\n",
       "      <td>DWP</td>\n",
       "      <td>http://per.lacity.org/perspecs/5622.pdf</td>\n",
       "    </tr>\n",
       "    <tr>\n",
       "      <th>114382</th>\n",
       "      <td>4-999316575dwp994Fu</td>\n",
       "      <td>2014</td>\n",
       "      <td>Water And Power (DWP)</td>\n",
       "      <td>NaN</td>\n",
       "      <td>999316575</td>\n",
       "      <td>Construction Electrical Helper</td>\n",
       "      <td>Full Time</td>\n",
       "      <td>NaN</td>\n",
       "      <td>62180.64</td>\n",
       "      <td>0.00</td>\n",
       "      <td>...</td>\n",
       "      <td>NaN</td>\n",
       "      <td>98</td>\n",
       "      <td>994</td>\n",
       "      <td>NaN</td>\n",
       "      <td>16842.08</td>\n",
       "      <td>1282.61</td>\n",
       "      <td>0.0</td>\n",
       "      <td>18124.69</td>\n",
       "      <td>DWP</td>\n",
       "      <td>http://per.lacity.org/perspecs/0994.pdf</td>\n",
       "    </tr>\n",
       "    <tr>\n",
       "      <th>114383</th>\n",
       "      <td>4-999373404dwp3586Fu</td>\n",
       "      <td>2014</td>\n",
       "      <td>Water And Power (DWP)</td>\n",
       "      <td>NaN</td>\n",
       "      <td>999373404</td>\n",
       "      <td>Truck And Equipment Dispatcher</td>\n",
       "      <td>Full Time</td>\n",
       "      <td>NaN</td>\n",
       "      <td>107448.48</td>\n",
       "      <td>32446.08</td>\n",
       "      <td>...</td>\n",
       "      <td>NaN</td>\n",
       "      <td>98</td>\n",
       "      <td>3586</td>\n",
       "      <td>NaN</td>\n",
       "      <td>16842.08</td>\n",
       "      <td>1282.61</td>\n",
       "      <td>0.0</td>\n",
       "      <td>18124.69</td>\n",
       "      <td>DWP</td>\n",
       "      <td>http://per.lacity.org/perspecs/3586.pdf</td>\n",
       "    </tr>\n",
       "    <tr>\n",
       "      <th>114389</th>\n",
       "      <td>4-999760504dwp5224Fu</td>\n",
       "      <td>2014</td>\n",
       "      <td>Water And Power (DWP)</td>\n",
       "      <td>NaN</td>\n",
       "      <td>999760504</td>\n",
       "      <td>Electric Station Operator</td>\n",
       "      <td>Full Time</td>\n",
       "      <td>NaN</td>\n",
       "      <td>70929.36</td>\n",
       "      <td>24759.72</td>\n",
       "      <td>...</td>\n",
       "      <td>NaN</td>\n",
       "      <td>98</td>\n",
       "      <td>5224</td>\n",
       "      <td>NaN</td>\n",
       "      <td>16842.08</td>\n",
       "      <td>1282.61</td>\n",
       "      <td>0.0</td>\n",
       "      <td>18124.69</td>\n",
       "      <td>DWP</td>\n",
       "      <td>http://per.lacity.org/perspecs/5224.pdf</td>\n",
       "    </tr>\n",
       "    <tr>\n",
       "      <th>114391</th>\n",
       "      <td>4-999958886dwp1358Fu</td>\n",
       "      <td>2014</td>\n",
       "      <td>Water And Power (DWP)</td>\n",
       "      <td>NaN</td>\n",
       "      <td>999958886</td>\n",
       "      <td>Clerk Typist</td>\n",
       "      <td>Full Time</td>\n",
       "      <td>NaN</td>\n",
       "      <td>46541.52</td>\n",
       "      <td>0.00</td>\n",
       "      <td>...</td>\n",
       "      <td>NaN</td>\n",
       "      <td>98</td>\n",
       "      <td>1358</td>\n",
       "      <td>NaN</td>\n",
       "      <td>16842.08</td>\n",
       "      <td>1282.61</td>\n",
       "      <td>0.0</td>\n",
       "      <td>18124.69</td>\n",
       "      <td>DWP</td>\n",
       "      <td>http://per.lacity.org/perspecs/1358.pdf</td>\n",
       "    </tr>\n",
       "  </tbody>\n",
       "</table>\n",
       "<p>8829 rows × 35 columns</p>\n",
       "</div>"
      ],
      "text/plain": [
       "                       row_id  year       department_title  \\\n",
       "17783   4-1147984106dwp1505Pa  2014  Water And Power (DWP)   \n",
       "18395   4-1226924308dwp1866Fu  2014  Water And Power (DWP)   \n",
       "22741   4-1634849167dwp1611Fu  2014  Water And Power (DWP)   \n",
       "24239      4-19790351dwp941Fu  2014  Water And Power (DWP)   \n",
       "24680     4-110013057dwp920Fu  2014  Water And Power (DWP)   \n",
       "...                       ...   ...                    ...   \n",
       "114379   4-999134163dwp5622Fu  2014  Water And Power (DWP)   \n",
       "114382    4-999316575dwp994Fu  2014  Water And Power (DWP)   \n",
       "114383   4-999373404dwp3586Fu  2014  Water And Power (DWP)   \n",
       "114389   4-999760504dwp5224Fu  2014  Water And Power (DWP)   \n",
       "114391   4-999958886dwp1358Fu  2014  Water And Power (DWP)   \n",
       "\n",
       "        payroll_department record_number                  job_class_title  \\\n",
       "17783                  NaN    1147984106           Student Trainee Worker   \n",
       "18395                  NaN    1226924308                Stores Supervisor   \n",
       "22741                  NaN    1634849167                     Meter Reader   \n",
       "24239                  NaN      19790351              Construction Helper   \n",
       "24680                  NaN     110013057  Construction Equipment Operator   \n",
       "...                    ...           ...                              ...   \n",
       "114379                 NaN     999134163            Steam Plant Assistant   \n",
       "114382                 NaN     999316575   Construction Electrical Helper   \n",
       "114383                 NaN     999373404   Truck And Equipment Dispatcher   \n",
       "114389                 NaN     999760504        Electric Station Operator   \n",
       "114391                 NaN     999958886                     Clerk Typist   \n",
       "\n",
       "       employment_type  hourly_or_event_rate  projected_annual_salary  \\\n",
       "17783        Part Time                   NaN                 19836.00   \n",
       "18395        Full Time                   NaN                120874.32   \n",
       "22741        Full Time                   NaN                 56041.92   \n",
       "24239        Full Time                   NaN                 59278.32   \n",
       "24680        Full Time                   NaN                 84125.52   \n",
       "...                ...                   ...                      ...   \n",
       "114379       Full Time                   NaN                 77506.56   \n",
       "114382       Full Time                   NaN                 62180.64   \n",
       "114383       Full Time                   NaN                107448.48   \n",
       "114389       Full Time                   NaN                 70929.36   \n",
       "114391       Full Time                   NaN                 46541.52   \n",
       "\n",
       "        q1_payments  ...  mou_title  fms_department  job_class  pay_grade  \\\n",
       "17783        808.45  ...        NaN              98       1505        NaN   \n",
       "18395          0.00  ...        NaN              98       1866        NaN   \n",
       "22741          0.00  ...        NaN              98       1611        NaN   \n",
       "24239       1872.79  ...        NaN              98        941        NaN   \n",
       "24680       1224.00  ...        NaN              98        920        NaN   \n",
       "...             ...  ...        ...             ...        ...        ...   \n",
       "114379     25488.90  ...        NaN              98       5622        NaN   \n",
       "114382         0.00  ...        NaN              98        994        NaN   \n",
       "114383     32446.08  ...        NaN              98       3586        NaN   \n",
       "114389     24759.72  ...        NaN              98       5224        NaN   \n",
       "114391         0.00  ...        NaN              98       1358        NaN   \n",
       "\n",
       "        average_health_cost  average_dental_cost  average_basic_life  \\\n",
       "17783                  0.00                 0.00                 0.0   \n",
       "18395              16842.08              1282.61                 0.0   \n",
       "22741              16842.08              1282.61                 0.0   \n",
       "24239              16842.08              1282.61                 0.0   \n",
       "24680              16842.08              1282.61                 0.0   \n",
       "...                     ...                  ...                 ...   \n",
       "114379             16842.08              1282.61                 0.0   \n",
       "114382             16842.08              1282.61                 0.0   \n",
       "114383             16842.08              1282.61                 0.0   \n",
       "114389             16842.08              1282.61                 0.0   \n",
       "114391             16842.08              1282.61                 0.0   \n",
       "\n",
       "        average_benefit_cost  benefits_plan  \\\n",
       "17783                   0.00            NaN   \n",
       "18395               18124.69            DWP   \n",
       "22741               18124.69            DWP   \n",
       "24239               18124.69            DWP   \n",
       "24680               18124.69            DWP   \n",
       "...                      ...            ...   \n",
       "114379              18124.69            DWP   \n",
       "114382              18124.69            DWP   \n",
       "114383              18124.69            DWP   \n",
       "114389              18124.69            DWP   \n",
       "114391              18124.69            DWP   \n",
       "\n",
       "                                 job_class_link  \n",
       "17783   http://per.lacity.org/perspecs/1505.pdf  \n",
       "18395   http://per.lacity.org/perspecs/1866.pdf  \n",
       "22741   http://per.lacity.org/perspecs/1611.pdf  \n",
       "24239   http://per.lacity.org/perspecs/0941.pdf  \n",
       "24680   http://per.lacity.org/perspecs/0920.pdf  \n",
       "...                                         ...  \n",
       "114379  http://per.lacity.org/perspecs/5622.pdf  \n",
       "114382  http://per.lacity.org/perspecs/0994.pdf  \n",
       "114383  http://per.lacity.org/perspecs/3586.pdf  \n",
       "114389  http://per.lacity.org/perspecs/5224.pdf  \n",
       "114391  http://per.lacity.org/perspecs/1358.pdf  \n",
       "\n",
       "[8829 rows x 35 columns]"
      ]
     },
     "execution_count": 155,
     "metadata": {},
     "output_type": "execute_result"
    }
   ],
   "source": [
    "DWP_2014.loc[df[\"department_title\"] == \"Water And Power (DWP)\"].groupby(\n",
    "    \"overtime_pay\"\n",
    ").head()"
   ]
  },
  {
   "cell_type": "code",
   "execution_count": 157,
   "id": "f7dedecd-52d2-4b8d-9dde-471699534679",
   "metadata": {},
   "outputs": [],
   "source": [
    "DWP_JOBS_2014 = (\n",
    "    DWP_2014.loc[df[\"department_title\"] == \"Water And Power (DWP)\"]\n",
    "    .groupby(\"job_class_title\")\n",
    "    .head()\n",
    ")"
   ]
  },
  {
   "cell_type": "code",
   "execution_count": 158,
   "id": "6422f1b0-e0c1-42de-8ed0-540aeb5d2ba1",
   "metadata": {},
   "outputs": [
    {
     "data": {
      "text/html": [
       "<div>\n",
       "<style scoped>\n",
       "    .dataframe tbody tr th:only-of-type {\n",
       "        vertical-align: middle;\n",
       "    }\n",
       "\n",
       "    .dataframe tbody tr th {\n",
       "        vertical-align: top;\n",
       "    }\n",
       "\n",
       "    .dataframe thead th {\n",
       "        text-align: right;\n",
       "    }\n",
       "</style>\n",
       "<table border=\"1\" class=\"dataframe\">\n",
       "  <thead>\n",
       "    <tr style=\"text-align: right;\">\n",
       "      <th></th>\n",
       "      <th>row_id</th>\n",
       "      <th>year</th>\n",
       "      <th>department_title</th>\n",
       "      <th>payroll_department</th>\n",
       "      <th>record_number</th>\n",
       "      <th>job_class_title</th>\n",
       "      <th>employment_type</th>\n",
       "      <th>hourly_or_event_rate</th>\n",
       "      <th>projected_annual_salary</th>\n",
       "      <th>q1_payments</th>\n",
       "      <th>...</th>\n",
       "      <th>mou_title</th>\n",
       "      <th>fms_department</th>\n",
       "      <th>job_class</th>\n",
       "      <th>pay_grade</th>\n",
       "      <th>average_health_cost</th>\n",
       "      <th>average_dental_cost</th>\n",
       "      <th>average_basic_life</th>\n",
       "      <th>average_benefit_cost</th>\n",
       "      <th>benefits_plan</th>\n",
       "      <th>job_class_link</th>\n",
       "    </tr>\n",
       "  </thead>\n",
       "  <tbody>\n",
       "    <tr>\n",
       "      <th>17783</th>\n",
       "      <td>4-1147984106dwp1505Pa</td>\n",
       "      <td>2014</td>\n",
       "      <td>Water And Power (DWP)</td>\n",
       "      <td>NaN</td>\n",
       "      <td>1147984106</td>\n",
       "      <td>Student Trainee Worker</td>\n",
       "      <td>Part Time</td>\n",
       "      <td>NaN</td>\n",
       "      <td>19836.00</td>\n",
       "      <td>808.45</td>\n",
       "      <td>...</td>\n",
       "      <td>NaN</td>\n",
       "      <td>98</td>\n",
       "      <td>1505</td>\n",
       "      <td>NaN</td>\n",
       "      <td>0.00</td>\n",
       "      <td>0.00</td>\n",
       "      <td>0.0</td>\n",
       "      <td>0.00</td>\n",
       "      <td>NaN</td>\n",
       "      <td>http://per.lacity.org/perspecs/1505.pdf</td>\n",
       "    </tr>\n",
       "    <tr>\n",
       "      <th>18395</th>\n",
       "      <td>4-1226924308dwp1866Fu</td>\n",
       "      <td>2014</td>\n",
       "      <td>Water And Power (DWP)</td>\n",
       "      <td>NaN</td>\n",
       "      <td>1226924308</td>\n",
       "      <td>Stores Supervisor</td>\n",
       "      <td>Full Time</td>\n",
       "      <td>NaN</td>\n",
       "      <td>120874.32</td>\n",
       "      <td>0.00</td>\n",
       "      <td>...</td>\n",
       "      <td>NaN</td>\n",
       "      <td>98</td>\n",
       "      <td>1866</td>\n",
       "      <td>NaN</td>\n",
       "      <td>16842.08</td>\n",
       "      <td>1282.61</td>\n",
       "      <td>0.0</td>\n",
       "      <td>18124.69</td>\n",
       "      <td>DWP</td>\n",
       "      <td>http://per.lacity.org/perspecs/1866.pdf</td>\n",
       "    </tr>\n",
       "    <tr>\n",
       "      <th>22741</th>\n",
       "      <td>4-1634849167dwp1611Fu</td>\n",
       "      <td>2014</td>\n",
       "      <td>Water And Power (DWP)</td>\n",
       "      <td>NaN</td>\n",
       "      <td>1634849167</td>\n",
       "      <td>Meter Reader</td>\n",
       "      <td>Full Time</td>\n",
       "      <td>NaN</td>\n",
       "      <td>56041.92</td>\n",
       "      <td>0.00</td>\n",
       "      <td>...</td>\n",
       "      <td>NaN</td>\n",
       "      <td>98</td>\n",
       "      <td>1611</td>\n",
       "      <td>NaN</td>\n",
       "      <td>16842.08</td>\n",
       "      <td>1282.61</td>\n",
       "      <td>0.0</td>\n",
       "      <td>18124.69</td>\n",
       "      <td>DWP</td>\n",
       "      <td>http://per.lacity.org/perspecs/1611.pdf</td>\n",
       "    </tr>\n",
       "    <tr>\n",
       "      <th>24239</th>\n",
       "      <td>4-19790351dwp941Fu</td>\n",
       "      <td>2014</td>\n",
       "      <td>Water And Power (DWP)</td>\n",
       "      <td>NaN</td>\n",
       "      <td>19790351</td>\n",
       "      <td>Construction Helper</td>\n",
       "      <td>Full Time</td>\n",
       "      <td>NaN</td>\n",
       "      <td>59278.32</td>\n",
       "      <td>1872.79</td>\n",
       "      <td>...</td>\n",
       "      <td>NaN</td>\n",
       "      <td>98</td>\n",
       "      <td>941</td>\n",
       "      <td>NaN</td>\n",
       "      <td>16842.08</td>\n",
       "      <td>1282.61</td>\n",
       "      <td>0.0</td>\n",
       "      <td>18124.69</td>\n",
       "      <td>DWP</td>\n",
       "      <td>http://per.lacity.org/perspecs/0941.pdf</td>\n",
       "    </tr>\n",
       "    <tr>\n",
       "      <th>24680</th>\n",
       "      <td>4-110013057dwp920Fu</td>\n",
       "      <td>2014</td>\n",
       "      <td>Water And Power (DWP)</td>\n",
       "      <td>NaN</td>\n",
       "      <td>110013057</td>\n",
       "      <td>Construction Equipment Operator</td>\n",
       "      <td>Full Time</td>\n",
       "      <td>NaN</td>\n",
       "      <td>84125.52</td>\n",
       "      <td>1224.00</td>\n",
       "      <td>...</td>\n",
       "      <td>NaN</td>\n",
       "      <td>98</td>\n",
       "      <td>920</td>\n",
       "      <td>NaN</td>\n",
       "      <td>16842.08</td>\n",
       "      <td>1282.61</td>\n",
       "      <td>0.0</td>\n",
       "      <td>18124.69</td>\n",
       "      <td>DWP</td>\n",
       "      <td>http://per.lacity.org/perspecs/0920.pdf</td>\n",
       "    </tr>\n",
       "    <tr>\n",
       "      <th>...</th>\n",
       "      <td>...</td>\n",
       "      <td>...</td>\n",
       "      <td>...</td>\n",
       "      <td>...</td>\n",
       "      <td>...</td>\n",
       "      <td>...</td>\n",
       "      <td>...</td>\n",
       "      <td>...</td>\n",
       "      <td>...</td>\n",
       "      <td>...</td>\n",
       "      <td>...</td>\n",
       "      <td>...</td>\n",
       "      <td>...</td>\n",
       "      <td>...</td>\n",
       "      <td>...</td>\n",
       "      <td>...</td>\n",
       "      <td>...</td>\n",
       "      <td>...</td>\n",
       "      <td>...</td>\n",
       "      <td>...</td>\n",
       "      <td>...</td>\n",
       "    </tr>\n",
       "    <tr>\n",
       "      <th>113772</th>\n",
       "      <td>4-959909816dwp2331Fu</td>\n",
       "      <td>2014</td>\n",
       "      <td>Water And Power (DWP)</td>\n",
       "      <td>NaN</td>\n",
       "      <td>959909816</td>\n",
       "      <td>Senior Industrial Hygienist</td>\n",
       "      <td>Full Time</td>\n",
       "      <td>NaN</td>\n",
       "      <td>136743.12</td>\n",
       "      <td>27080.12</td>\n",
       "      <td>...</td>\n",
       "      <td>NaN</td>\n",
       "      <td>98</td>\n",
       "      <td>2331</td>\n",
       "      <td>NaN</td>\n",
       "      <td>16842.08</td>\n",
       "      <td>1282.61</td>\n",
       "      <td>0.0</td>\n",
       "      <td>18124.69</td>\n",
       "      <td>DWP</td>\n",
       "      <td>http://per.lacity.org/perspecs/2331.pdf</td>\n",
       "    </tr>\n",
       "    <tr>\n",
       "      <th>113790</th>\n",
       "      <td>4-960758540dwp7935Fu</td>\n",
       "      <td>2014</td>\n",
       "      <td>Water And Power (DWP)</td>\n",
       "      <td>NaN</td>\n",
       "      <td>960758540</td>\n",
       "      <td>Graphics Supervisor</td>\n",
       "      <td>Full Time</td>\n",
       "      <td>NaN</td>\n",
       "      <td>110622.24</td>\n",
       "      <td>23005.23</td>\n",
       "      <td>...</td>\n",
       "      <td>NaN</td>\n",
       "      <td>98</td>\n",
       "      <td>7935</td>\n",
       "      <td>NaN</td>\n",
       "      <td>16842.08</td>\n",
       "      <td>1282.61</td>\n",
       "      <td>0.0</td>\n",
       "      <td>18124.69</td>\n",
       "      <td>DWP</td>\n",
       "      <td>http://per.lacity.org/perspecs/7935.pdf</td>\n",
       "    </tr>\n",
       "    <tr>\n",
       "      <th>113814</th>\n",
       "      <td>4-96195939dwp3800Fu</td>\n",
       "      <td>2014</td>\n",
       "      <td>Water And Power (DWP)</td>\n",
       "      <td>NaN</td>\n",
       "      <td>96195939</td>\n",
       "      <td>Communications Cable Supervisor</td>\n",
       "      <td>Full Time</td>\n",
       "      <td>NaN</td>\n",
       "      <td>125676.72</td>\n",
       "      <td>37909.27</td>\n",
       "      <td>...</td>\n",
       "      <td>NaN</td>\n",
       "      <td>98</td>\n",
       "      <td>3800</td>\n",
       "      <td>NaN</td>\n",
       "      <td>16842.08</td>\n",
       "      <td>1282.61</td>\n",
       "      <td>0.0</td>\n",
       "      <td>18124.69</td>\n",
       "      <td>DWP</td>\n",
       "      <td>http://per.lacity.org/perspecs/3800.pdf</td>\n",
       "    </tr>\n",
       "    <tr>\n",
       "      <th>113865</th>\n",
       "      <td>4-965911255dwp3863Fu</td>\n",
       "      <td>2014</td>\n",
       "      <td>Water And Power (DWP)</td>\n",
       "      <td>NaN</td>\n",
       "      <td>965911255</td>\n",
       "      <td>Electrician</td>\n",
       "      <td>Full Time</td>\n",
       "      <td>NaN</td>\n",
       "      <td>99848.16</td>\n",
       "      <td>34205.52</td>\n",
       "      <td>...</td>\n",
       "      <td>NaN</td>\n",
       "      <td>98</td>\n",
       "      <td>3863</td>\n",
       "      <td>NaN</td>\n",
       "      <td>16842.08</td>\n",
       "      <td>1282.61</td>\n",
       "      <td>0.0</td>\n",
       "      <td>18124.69</td>\n",
       "      <td>DWP</td>\n",
       "      <td>http://per.lacity.org/perspecs/3863.pdf</td>\n",
       "    </tr>\n",
       "    <tr>\n",
       "      <th>114095</th>\n",
       "      <td>4-980659207dwp1786Fu</td>\n",
       "      <td>2014</td>\n",
       "      <td>Water And Power (DWP)</td>\n",
       "      <td>NaN</td>\n",
       "      <td>980659207</td>\n",
       "      <td>Principal Public Relations Representative</td>\n",
       "      <td>Full Time</td>\n",
       "      <td>NaN</td>\n",
       "      <td>151212.96</td>\n",
       "      <td>36118.52</td>\n",
       "      <td>...</td>\n",
       "      <td>NaN</td>\n",
       "      <td>98</td>\n",
       "      <td>1786</td>\n",
       "      <td>NaN</td>\n",
       "      <td>16842.08</td>\n",
       "      <td>1282.61</td>\n",
       "      <td>0.0</td>\n",
       "      <td>18124.69</td>\n",
       "      <td>DWP</td>\n",
       "      <td>http://per.lacity.org/perspecs/1786.pdf</td>\n",
       "    </tr>\n",
       "  </tbody>\n",
       "</table>\n",
       "<p>1361 rows × 35 columns</p>\n",
       "</div>"
      ],
      "text/plain": [
       "                       row_id  year       department_title  \\\n",
       "17783   4-1147984106dwp1505Pa  2014  Water And Power (DWP)   \n",
       "18395   4-1226924308dwp1866Fu  2014  Water And Power (DWP)   \n",
       "22741   4-1634849167dwp1611Fu  2014  Water And Power (DWP)   \n",
       "24239      4-19790351dwp941Fu  2014  Water And Power (DWP)   \n",
       "24680     4-110013057dwp920Fu  2014  Water And Power (DWP)   \n",
       "...                       ...   ...                    ...   \n",
       "113772   4-959909816dwp2331Fu  2014  Water And Power (DWP)   \n",
       "113790   4-960758540dwp7935Fu  2014  Water And Power (DWP)   \n",
       "113814    4-96195939dwp3800Fu  2014  Water And Power (DWP)   \n",
       "113865   4-965911255dwp3863Fu  2014  Water And Power (DWP)   \n",
       "114095   4-980659207dwp1786Fu  2014  Water And Power (DWP)   \n",
       "\n",
       "        payroll_department record_number  \\\n",
       "17783                  NaN    1147984106   \n",
       "18395                  NaN    1226924308   \n",
       "22741                  NaN    1634849167   \n",
       "24239                  NaN      19790351   \n",
       "24680                  NaN     110013057   \n",
       "...                    ...           ...   \n",
       "113772                 NaN     959909816   \n",
       "113790                 NaN     960758540   \n",
       "113814                 NaN      96195939   \n",
       "113865                 NaN     965911255   \n",
       "114095                 NaN     980659207   \n",
       "\n",
       "                                  job_class_title employment_type  \\\n",
       "17783                      Student Trainee Worker       Part Time   \n",
       "18395                           Stores Supervisor       Full Time   \n",
       "22741                                Meter Reader       Full Time   \n",
       "24239                         Construction Helper       Full Time   \n",
       "24680             Construction Equipment Operator       Full Time   \n",
       "...                                           ...             ...   \n",
       "113772                Senior Industrial Hygienist       Full Time   \n",
       "113790                        Graphics Supervisor       Full Time   \n",
       "113814            Communications Cable Supervisor       Full Time   \n",
       "113865                                Electrician       Full Time   \n",
       "114095  Principal Public Relations Representative       Full Time   \n",
       "\n",
       "        hourly_or_event_rate  projected_annual_salary  q1_payments  ...  \\\n",
       "17783                    NaN                 19836.00       808.45  ...   \n",
       "18395                    NaN                120874.32         0.00  ...   \n",
       "22741                    NaN                 56041.92         0.00  ...   \n",
       "24239                    NaN                 59278.32      1872.79  ...   \n",
       "24680                    NaN                 84125.52      1224.00  ...   \n",
       "...                      ...                      ...          ...  ...   \n",
       "113772                   NaN                136743.12     27080.12  ...   \n",
       "113790                   NaN                110622.24     23005.23  ...   \n",
       "113814                   NaN                125676.72     37909.27  ...   \n",
       "113865                   NaN                 99848.16     34205.52  ...   \n",
       "114095                   NaN                151212.96     36118.52  ...   \n",
       "\n",
       "        mou_title  fms_department  job_class  pay_grade  average_health_cost  \\\n",
       "17783         NaN              98       1505        NaN                 0.00   \n",
       "18395         NaN              98       1866        NaN             16842.08   \n",
       "22741         NaN              98       1611        NaN             16842.08   \n",
       "24239         NaN              98        941        NaN             16842.08   \n",
       "24680         NaN              98        920        NaN             16842.08   \n",
       "...           ...             ...        ...        ...                  ...   \n",
       "113772        NaN              98       2331        NaN             16842.08   \n",
       "113790        NaN              98       7935        NaN             16842.08   \n",
       "113814        NaN              98       3800        NaN             16842.08   \n",
       "113865        NaN              98       3863        NaN             16842.08   \n",
       "114095        NaN              98       1786        NaN             16842.08   \n",
       "\n",
       "        average_dental_cost  average_basic_life  average_benefit_cost  \\\n",
       "17783                  0.00                 0.0                  0.00   \n",
       "18395               1282.61                 0.0              18124.69   \n",
       "22741               1282.61                 0.0              18124.69   \n",
       "24239               1282.61                 0.0              18124.69   \n",
       "24680               1282.61                 0.0              18124.69   \n",
       "...                     ...                 ...                   ...   \n",
       "113772              1282.61                 0.0              18124.69   \n",
       "113790              1282.61                 0.0              18124.69   \n",
       "113814              1282.61                 0.0              18124.69   \n",
       "113865              1282.61                 0.0              18124.69   \n",
       "114095              1282.61                 0.0              18124.69   \n",
       "\n",
       "        benefits_plan                           job_class_link  \n",
       "17783             NaN  http://per.lacity.org/perspecs/1505.pdf  \n",
       "18395             DWP  http://per.lacity.org/perspecs/1866.pdf  \n",
       "22741             DWP  http://per.lacity.org/perspecs/1611.pdf  \n",
       "24239             DWP  http://per.lacity.org/perspecs/0941.pdf  \n",
       "24680             DWP  http://per.lacity.org/perspecs/0920.pdf  \n",
       "...               ...                                      ...  \n",
       "113772            DWP  http://per.lacity.org/perspecs/2331.pdf  \n",
       "113790            DWP  http://per.lacity.org/perspecs/7935.pdf  \n",
       "113814            DWP  http://per.lacity.org/perspecs/3800.pdf  \n",
       "113865            DWP  http://per.lacity.org/perspecs/3863.pdf  \n",
       "114095            DWP  http://per.lacity.org/perspecs/1786.pdf  \n",
       "\n",
       "[1361 rows x 35 columns]"
      ]
     },
     "execution_count": 158,
     "metadata": {},
     "output_type": "execute_result"
    }
   ],
   "source": [
    "DWP_JOBS_2014"
   ]
  },
  {
   "cell_type": "code",
   "execution_count": 165,
   "id": "5d1f9ec3-58db-4bb9-86da-cd1c44e6ed61",
   "metadata": {},
   "outputs": [
    {
     "data": {
      "text/plain": [
       "17783          NaN\n",
       "18395         0.00\n",
       "22741       370.39\n",
       "24239         0.00\n",
       "24680         0.00\n",
       "            ...   \n",
       "113772        0.00\n",
       "113790     9015.06\n",
       "113814    20495.87\n",
       "113865    28552.92\n",
       "114095     1554.72\n",
       "Name: overtime_pay, Length: 1361, dtype: float64"
      ]
     },
     "execution_count": 165,
     "metadata": {},
     "output_type": "execute_result"
    }
   ],
   "source": [
    "DWP_JOBS_2014.groupby(\"job_class_title\").head(5)[\"overtime_pay\"]"
   ]
  },
  {
   "cell_type": "code",
   "execution_count": 163,
   "id": "c5f85061-88ac-46e8-8047-e0852138a0f0",
   "metadata": {},
   "outputs": [],
   "source": [
    "# topdwp_2014.groupby(\"job_class_title\")\n",
    "# depts_sortedby2013 = df.loc[df[\"year\"] == \"2013\",].groupby(\"department_title\")\n",
    "# depts_sortedby2013.sum().sort_values([\"overtime_pay\"], ascending=False).head(5)[\"overtime_pay\"]"
   ]
  },
  {
   "cell_type": "markdown",
   "id": "702b053c-4833-4fc3-a11d-e6d711c4e38c",
   "metadata": {},
   "source": [
    "# Which 10 departments spent the most money on overtime overall (sum of 2013-2018)?"
   ]
  },
  {
   "cell_type": "code",
   "execution_count": null,
   "id": "3a454b96-57d0-4144-b0f4-81fa744845a5",
   "metadata": {},
   "outputs": [],
   "source": [
    "depts_overtime_mean = depts_pay.groupby([\"year\", \"department_title\"]).agg({\"overtime_pay\":\"mean\", \"base_pay\":\"mean\"}).reset_index()"
   ]
  },
  {
   "cell_type": "code",
   "execution_count": 177,
   "id": "ebaefc30-d455-43e7-95d2-aa74de024cce",
   "metadata": {},
   "outputs": [
    {
     "data": {
      "text/plain": [
       "department_title\n",
       "Water And Power (DWP)             1.050051e+09\n",
       "Fire (LAFD)                       8.756727e+08\n",
       "Police (LAPD)                     4.503165e+08\n",
       "Fire                              1.981769e+08\n",
       "Airports (LAWA)                   1.789030e+08\n",
       "Police                            1.342280e+08\n",
       "Public Works - Sanitation         8.654849e+07\n",
       "Transportation (LADOT)            7.816583e+07\n",
       "Building and Safety               5.268330e+07\n",
       "Public Works - Street Services    5.131754e+07\n",
       "Name: overtime_pay, dtype: float64"
      ]
     },
     "execution_count": 177,
     "metadata": {},
     "output_type": "execute_result"
    }
   ],
   "source": [
    "df.groupby(\"department_title\").sum().sort_values(\n",
    "    [\"overtime_pay\"], ascending=False\n",
    ").head(10)[\"overtime_pay\"]"
   ]
  },
  {
   "cell_type": "markdown",
   "id": "2eb5adfb-8511-427b-b933-9189d54da783",
   "metadata": {},
   "source": [
    "# What job class earned the most overtime pay over the years 2013-2018?"
   ]
  },
  {
   "cell_type": "code",
   "execution_count": 182,
   "id": "768baec0-a7f5-4249-b893-cc32d0d2079c",
   "metadata": {},
   "outputs": [
    {
     "data": {
      "text/plain": [
       "job_class_title                              department_title       record_number\n",
       "Firefighter III                              Fire (LAFD)            2837442648       1428050.36\n",
       "Fire Captain I                               Fire (LAFD)            1081092723       1284346.95\n",
       "Fire Inspector II                            Fire (LAFD)            114779553        1018832.87\n",
       "Firefighter III                              Fire (LAFD)            1691209126       1004287.35\n",
       "Electrical Distribution Mechanic Supervisor  Water And Power (DWP)  2973354356        994743.57\n",
       "Fire Captain I                               Fire (LAFD)            3857331564        984529.28\n",
       "Fire Inspector II                            Fire (LAFD)            2859591997        914162.18\n",
       "Firefighter III                              Fire (LAFD)            3193362034        893217.42\n",
       "Electric Distribution Mechanic               Water And Power (DWP)  687873419         884342.93\n",
       "Engineer of Fire Department                  Fire (LAFD)            4105104840        861094.52\n",
       "Name: overtime_pay, dtype: float64"
      ]
     },
     "execution_count": 182,
     "metadata": {},
     "output_type": "execute_result"
    }
   ],
   "source": [
    "df.groupby([\"job_class_title\", \"department_title\", \"record_number\"]).sum().sort_values(\n",
    "    [\"overtime_pay\"], ascending=False\n",
    ").head(10)[\"overtime_pay\"]"
   ]
  },
  {
   "cell_type": "markdown",
   "id": "4a89cc4e-e309-4867-aab1-30672145fe66",
   "metadata": {},
   "source": [
    "# What specific people/employees earned the most overtime over the years 2013-2018?"
   ]
  },
  {
   "cell_type": "code",
   "execution_count": 183,
   "id": "91c9bea2-7a08-44a0-abb3-fc731d26aead",
   "metadata": {},
   "outputs": [
    {
     "data": {
      "text/plain": [
       "job_class_title                              department_title       record_number\n",
       "Firefighter III                              Fire (LAFD)            2837442648       1428050.36\n",
       "Fire Captain I                               Fire (LAFD)            1081092723       1284346.95\n",
       "Fire Inspector II                            Fire (LAFD)            114779553        1018832.87\n",
       "Firefighter III                              Fire (LAFD)            1691209126       1004287.35\n",
       "Electrical Distribution Mechanic Supervisor  Water And Power (DWP)  2973354356        994743.57\n",
       "Fire Captain I                               Fire (LAFD)            3857331564        984529.28\n",
       "Fire Inspector II                            Fire (LAFD)            2859591997        914162.18\n",
       "Firefighter III                              Fire (LAFD)            3193362034        893217.42\n",
       "Electric Distribution Mechanic               Water And Power (DWP)  687873419         884342.93\n",
       "Engineer of Fire Department                  Fire (LAFD)            4105104840        861094.52\n",
       "Name: overtime_pay, dtype: float64"
      ]
     },
     "execution_count": 183,
     "metadata": {},
     "output_type": "execute_result"
    }
   ],
   "source": [
    "df.groupby([\"job_class_title\", \"department_title\", \"record_number\"]).sum().sort_values(\n",
    "    [\"overtime_pay\"], ascending=False\n",
    ").head(10)[\"overtime_pay\"]"
   ]
  },
  {
   "cell_type": "markdown",
   "id": "b6e089f0-172c-48ff-835f-2f6ed01c537b",
   "metadata": {},
   "source": [
    "# What 10 people/employees earned the most overtime year by year?"
   ]
  },
  {
   "cell_type": "code",
   "execution_count": 186,
   "id": "04c243d2-26bf-4be5-bd3b-2ca2268837ae",
   "metadata": {},
   "outputs": [
    {
     "data": {
      "text/plain": [
       "job_class_title                   department_title       record_number\n",
       "Firefighter III                   Fire (LAFD)            2837442648       242033.21\n",
       "Fire Captain I                    Fire (LAFD)            2236794545       240229.39\n",
       "                                                         1016325312       222765.52\n",
       "                                                         3033406281       213228.57\n",
       "                                                         3532018065       211071.17\n",
       "                                                         2344853128       189090.27\n",
       "                                                         1447270643       181852.75\n",
       "                                                         357236164        171894.91\n",
       "                                                         3692077766       167318.88\n",
       "Steam Plant Operating Supervisor  Water And Power (DWP)  3231062265       165166.05\n",
       "Name: overtime_pay, dtype: float64"
      ]
     },
     "execution_count": 186,
     "metadata": {},
     "output_type": "execute_result"
    }
   ],
   "source": [
    "df.loc[df[\"year\"] == \"2013\",].groupby(\n",
    "    [\"job_class_title\", \"department_title\", \"record_number\"]\n",
    ").sum().sort_values([\"overtime_pay\"], ascending=False).head(10)[\"overtime_pay\"]"
   ]
  },
  {
   "cell_type": "code",
   "execution_count": 181,
   "id": "26f4d11b-cf0e-4b40-bc76-69575b624327",
   "metadata": {},
   "outputs": [
    {
     "data": {
      "text/plain": [
       "job_class_title                              department_title       record_number\n",
       "Firefighter III                              Fire (LAFD)            2837442648       286535.97\n",
       "Fire Captain I                               Fire (LAFD)            2236794545       229977.12\n",
       "                                                                    3532018065       219730.10\n",
       "Fire Inspector II                            Fire (LAFD)            114779553        218384.37\n",
       "Fire Captain III                             Fire (LAFD)            1016325312       217861.59\n",
       "Fire Captain I                               Fire (LAFD)            1081092723       208447.43\n",
       "                                                                    3857331564       199901.71\n",
       "Electrical Distribution Mechanic Supervisor  Water And Power (DWP)  2973354356       199385.01\n",
       "Engineer of Fire Department                  Fire (LAFD)            1180046869       195053.78\n",
       "Fire Captain I                               Fire (LAFD)            3033406281       187774.45\n",
       "Name: overtime_pay, dtype: float64"
      ]
     },
     "execution_count": 181,
     "metadata": {},
     "output_type": "execute_result"
    }
   ],
   "source": [
    "df.loc[df[\"year\"] == \"2014\",].groupby(\n",
    "    [\"job_class_title\", \"department_title\", \"record_number\"]\n",
    ").sum().sort_values([\"overtime_pay\"], ascending=False).head(10)[\"overtime_pay\"]"
   ]
  },
  {
   "cell_type": "code",
   "execution_count": 185,
   "id": "28adc74f-31b7-411b-b1c1-c1e35c044799",
   "metadata": {},
   "outputs": [
    {
     "data": {
      "text/plain": [
       "job_class_title     department_title  record_number\n",
       "Fire Captain I      Fire (LAFD)       1081092723       311315.62\n",
       "Firefighter III     Fire (LAFD)       2837442648       286732.56\n",
       "Fire Captain I      Fire (LAFD)       2236794545       273495.60\n",
       "Fire Captain II     Fire (LAFD)       2734423944       230139.60\n",
       "Apparatus Operator  Fire (LAFD)       4055219444       228209.95\n",
       "Firefighter III     Fire (LAFD)       4025962128       222797.29\n",
       "Fire Captain I      Fire (LAFD)       3857331564       222679.71\n",
       "Fire Inspector I    Fire (LAFD)       3593364809       222287.35\n",
       "Fire Captain II     Fire (LAFD)       1514495204       217116.69\n",
       "                                      1016325312       217085.94\n",
       "Name: overtime_pay, dtype: float64"
      ]
     },
     "execution_count": 185,
     "metadata": {},
     "output_type": "execute_result"
    }
   ],
   "source": [
    "df.loc[df[\"year\"] == \"2015\",].groupby(\n",
    "    [\"job_class_title\", \"department_title\", \"record_number\"]\n",
    ").sum().sort_values([\"overtime_pay\"], ascending=False).head(10)[\"overtime_pay\"]"
   ]
  },
  {
   "cell_type": "code",
   "execution_count": 187,
   "id": "dd57682e-9063-49e8-b7c0-51ff371b37f6",
   "metadata": {},
   "outputs": [
    {
     "data": {
      "text/plain": [
       "job_class_title    department_title  record_number\n",
       "Fire Captain II    Fire (LAFD)       2236794545       334654.93\n",
       "Fire Captain I     Fire (LAFD)       1081092723       332582.52\n",
       "Firefighter III    Fire (LAFD)       2837442648       307541.73\n",
       "Fire Captain I     Fire (LAFD)       3857331564       244445.03\n",
       "Fire Captain II    Fire (LAFD)       2734423944       225224.05\n",
       "                                     1514495204       224034.58\n",
       "Fire Inspector II  Fire (LAFD)       2859591997       222133.34\n",
       "                                     114779553        219194.94\n",
       "Fireboat Pilot     Fire (LAFD)       3503214219       219143.14\n",
       "Firefighter III    Fire (LAFD)       1691209126       218597.72\n",
       "Name: overtime_pay, dtype: float64"
      ]
     },
     "execution_count": 187,
     "metadata": {},
     "output_type": "execute_result"
    }
   ],
   "source": [
    "df.loc[df[\"year\"] == \"2016\",].groupby(\n",
    "    [\"job_class_title\", \"department_title\", \"record_number\"]\n",
    ").sum().sort_values([\"overtime_pay\"], ascending=False).head(10)[\"overtime_pay\"]"
   ]
  },
  {
   "cell_type": "code",
   "execution_count": 188,
   "id": "a84d9c0b-e769-4b40-81e3-fd18560e37a5",
   "metadata": {},
   "outputs": [
    {
     "data": {
      "text/plain": [
       "job_class_title    department_title  record_number\n",
       "Firefighter III    Fire              2837442648       306405.43\n",
       "Fire Captain II    Fire              2236794545       284882.29\n",
       "Fire Captain I     Fire              1081092723       280181.87\n",
       "Firefighter III    Fire              1691209126       258877.60\n",
       "Fire Captain I     Fire              1180046869       254737.92\n",
       "Fire Captain II    Fire              1514495204       250363.08\n",
       "Fire Inspector II  Fire              2859591997       245640.31\n",
       "Fire Captain I     Fire              3857331564       242982.19\n",
       "Firefighter III    Fire              1842195041       231819.77\n",
       "Fire Captain I     Fire              2744766611       226040.71\n",
       "Name: overtime_pay, dtype: float64"
      ]
     },
     "execution_count": 188,
     "metadata": {},
     "output_type": "execute_result"
    }
   ],
   "source": [
    "df.loc[df[\"year\"] == \"2017\",].groupby(\n",
    "    [\"job_class_title\", \"department_title\", \"record_number\"]\n",
    ").sum().sort_values([\"overtime_pay\"], ascending=False).head(10)[\"overtime_pay\"]"
   ]
  },
  {
   "cell_type": "code",
   "execution_count": 189,
   "id": "0cbabfb6-c291-4257-9fa6-c1f2bf674dfe",
   "metadata": {},
   "outputs": [
    {
     "data": {
      "text/plain": [
       "job_class_title                              department_title       record_number\n",
       "Principal Security Officer                   Water And Power (DWP)  67886147         308745.34\n",
       "Firefighter III                              Fire (LAFD)            2837442648       305206.89\n",
       "Fire Captain I                               Fire (LAFD)            1081092723       298651.69\n",
       "Firefighter III                              Fire (LAFD)            1842195041       292010.81\n",
       "                                                                    1691209126       291476.88\n",
       "Fire Captain I                               Fire (LAFD)            1180046869       272419.75\n",
       "Fire Captain II                              Fire (LAFD)            1514495204       262651.47\n",
       "Firefighter III                              Fire (LAFD)            2771305138       254728.02\n",
       "Electrical Distribution Mechanic Supervisor  Water And Power (DWP)  2973354356       244972.93\n",
       "Fire Captain II                              Fire (LAFD)            1064960734       240054.71\n",
       "Name: overtime_pay, dtype: float64"
      ]
     },
     "execution_count": 189,
     "metadata": {},
     "output_type": "execute_result"
    }
   ],
   "source": [
    "df.loc[df[\"year\"] == \"2018\",].groupby(\n",
    "    [\"job_class_title\", \"department_title\", \"record_number\"]\n",
    ").sum().sort_values([\"overtime_pay\"], ascending=False).head(10)[\"overtime_pay\"]"
   ]
  }
 ],
 "metadata": {
  "kernelspec": {
   "display_name": "Python 3",
   "language": "python",
   "name": "python3"
  },
  "language_info": {
   "codemirror_mode": {
    "name": "ipython",
    "version": 3
   },
   "file_extension": ".py",
   "mimetype": "text/x-python",
   "name": "python",
   "nbconvert_exporter": "python",
   "pygments_lexer": "ipython3",
   "version": "3.8.8"
  }
 },
 "nbformat": 4,
 "nbformat_minor": 5
}
