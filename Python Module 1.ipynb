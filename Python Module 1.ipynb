{
 "cells": [
  {
   "cell_type": "code",
   "execution_count": 1,
   "id": "8b7a361d-0b60-4320-92e0-f834f1550116",
   "metadata": {},
   "outputs": [],
   "source": [
    "## This is me trying my best"
   ]
  },
  {
   "cell_type": "code",
   "execution_count": 2,
   "id": "1886f9c1-8518-45da-a011-8a4053b164b0",
   "metadata": {},
   "outputs": [],
   "source": [
    "import pandas as pd\n",
    "import numpy as np"
   ]
  },
  {
   "cell_type": "code",
   "execution_count": 3,
   "id": "0dd8da30-f3cf-4e24-bb27-d48f9106f914",
   "metadata": {},
   "outputs": [],
   "source": [
    "## Data file is Arrest_Data_from_2010_to_2019.csv"
   ]
  },
  {
   "cell_type": "code",
   "execution_count": 4,
   "id": "34d80465-5502-4a98-ad2e-daa75350955f",
   "metadata": {},
   "outputs": [],
   "source": [
    "import csv"
   ]
  },
  {
   "cell_type": "code",
   "execution_count": null,
   "id": "44b0d804-0b34-4699-afe0-dc8789b0a8c8",
   "metadata": {},
   "outputs": [],
   "source": [
    "arrest_data =pd.read_csv('https://github.com/gracevharmon/JOUR554/blob/7a274698d44edb4f9bfc870f573859c03afcbc3b/Arrest_Data_from_2010_to_2019.csv')\n",
    "df = pd.DataFrame(data, columns= ['Charge Group Code','Age','Sex Code','Descent Code'])\n",
    "print (df)"
   ]
  },
  {
   "cell_type": "code",
   "execution_count": 7,
   "id": "87e6f92e-c72b-48ce-8fe1-348cf8cf2f57",
   "metadata": {},
   "outputs": [
    {
     "ename": "NameError",
     "evalue": "name 'arrest_data' is not defined",
     "output_type": "error",
     "traceback": [
      "\u001b[1;31m---------------------------------------------------------------------------\u001b[0m",
      "\u001b[1;31mNameError\u001b[0m                                 Traceback (most recent call last)",
      "\u001b[1;32m<ipython-input-7-e96b28bdf6c5>\u001b[0m in \u001b[0;36m<module>\u001b[1;34m\u001b[0m\n\u001b[1;32m----> 1\u001b[1;33m \u001b[0marrest_data\u001b[0m\u001b[1;33m.\u001b[0m\u001b[0minfo\u001b[0m\u001b[1;33m(\u001b[0m\u001b[1;33m)\u001b[0m\u001b[1;33m\u001b[0m\u001b[1;33m\u001b[0m\u001b[0m\n\u001b[0m",
      "\u001b[1;31mNameError\u001b[0m: name 'arrest_data' is not defined"
     ]
    }
   ],
   "source": [
    "arrest_data.info()"
   ]
  },
  {
   "cell_type": "code",
   "execution_count": 6,
   "id": "6b887218-3590-4d87-8bf7-ea86b3fa195b",
   "metadata": {},
   "outputs": [
    {
     "ename": "NameError",
     "evalue": "name 'Age' is not defined",
     "output_type": "error",
     "traceback": [
      "\u001b[1;31m---------------------------------------------------------------------------\u001b[0m",
      "\u001b[1;31mNameError\u001b[0m                                 Traceback (most recent call last)",
      "\u001b[1;32m<ipython-input-6-27319aae122f>\u001b[0m in \u001b[0;36m<module>\u001b[1;34m\u001b[0m\n\u001b[1;32m----> 1\u001b[1;33m \u001b[0mAge\u001b[0m\u001b[1;33m.\u001b[0m\u001b[0mmin\u001b[0m\u001b[1;33m(\u001b[0m\u001b[1;33m)\u001b[0m\u001b[1;33m\u001b[0m\u001b[1;33m\u001b[0m\u001b[0m\n\u001b[0m",
      "\u001b[1;31mNameError\u001b[0m: name 'Age' is not defined"
     ]
    }
   ],
   "source": [
    "Age.min()"
   ]
  },
  {
   "cell_type": "code",
   "execution_count": null,
   "id": "f37dc274-8984-4be0-8c7e-c07d2589cccc",
   "metadata": {},
   "outputs": [],
   "source": []
  }
 ],
 "metadata": {
  "kernelspec": {
   "display_name": "Python 3",
   "language": "python",
   "name": "python3"
  },
  "language_info": {
   "codemirror_mode": {
    "name": "ipython",
    "version": 3
   },
   "file_extension": ".py",
   "mimetype": "text/x-python",
   "name": "python",
   "nbconvert_exporter": "python",
   "pygments_lexer": "ipython3",
   "version": "3.8.8"
  }
 },
 "nbformat": 4,
 "nbformat_minor": 5
}
